{
  "nbformat": 4,
  "nbformat_minor": 0,
  "metadata": {
    "colab": {
      "provenance": [],
      "include_colab_link": true
    },
    "kernelspec": {
      "name": "python3",
      "display_name": "Python 3"
    },
    "language_info": {
      "name": "python"
    }
  },
  "cells": [
    {
      "cell_type": "markdown",
      "metadata": {
        "id": "view-in-github",
        "colab_type": "text"
      },
      "source": [
        "<a href=\"https://colab.research.google.com/github/BhagyaPS2001/DataScienceMl/blob/main/Bhagya_Na%C3%AFve_Bayes_Algorithm.ipynb\" target=\"_parent\"><img src=\"https://colab.research.google.com/assets/colab-badge.svg\" alt=\"Open In Colab\"/></a>"
      ]
    },
    {
      "cell_type": "markdown",
      "source": [
        "**Aim**: Program to implement Naïve Bayes Algorithm using any standard dataset\n",
        "available in the public domain and find the accuracy of the algorithm"
      ],
      "metadata": {
        "id": "f4TwDjLCpTcn"
      }
    },
    {
      "cell_type": "markdown",
      "source": [
        "# **Short notes: Naive Bayes**\n",
        "\n",
        "Bayes’ Theorem provides a way that we can calculate the probability of a piece of data belonging to a given class, given our prior knowledge. Bayes’ Theorem is stated as:\n",
        "\n",
        "#      P(class|data) = (P(data|class) * P(class)) / P(data)  \n",
        "\n",
        "Where P(class|data) is the probability of class given the provided data."
      ],
      "metadata": {
        "id": "_23W0JVJq1-V"
      }
    },
    {
      "cell_type": "markdown",
      "source": [
        "We are using Iris Dataset. The Iris Flower Dataset involves predicting the flower species given measurements of iris flowers.\n",
        "\n",
        "It is a multiclass classification problem. The number of observations for each class is balanced. There are 150 observations with 4 input variables and 1 output variable. The variable names are as follows:\n",
        "\n",
        "  Sepal length in cm.\n",
        "\n",
        "  Sepal width in cm.\n",
        "\n",
        "  Petal length in cm.\n",
        "\n",
        "  Petal width in cm.\n",
        "\n",
        "Class.\n",
        "\n",
        "**Algorithm**:\n",
        "\n",
        "Step 1: Separate By Class.\n",
        "\n",
        "Step 2: Summarize Dataset.\n",
        "\n",
        "Step 3: Summarize Data By Class.\n",
        "\n",
        "Step 4: Gaussian Probability Density Function.\n",
        "\n",
        "Step 5: Class Probabilities."
      ],
      "metadata": {
        "id": "Aq3NJZhGrENv"
      }
    },
    {
      "cell_type": "code",
      "source": [
        "#Import Modules\n",
        "import pandas as pd\n",
        "from sklearn.model_selection import train_test_split\n",
        "from sklearn.metrics import accuracy_score,confusion_matrix,classification_report\n",
        "#Load iris dataset & do train_test_split\n",
        "iris=pd.read_csv(\"https://raw.githubusercontent.com/BhagyaPS2001/DataScienceMl/main/iris-species%20(2).csv\")\n",
        "iris.head()\n",
        "x=iris[[\"SepalLengthCm\",\"SepalWidthCm\",\"PetalLengthCm\",\"PetalWidthCm\"]]\n",
        "y=iris[\"Species\"]"
      ],
      "metadata": {
        "id": "N3sWnWz_rxIR"
      },
      "execution_count": 24,
      "outputs": []
    },
    {
      "cell_type": "code",
      "source": [
        "#Feature Scaling\n",
        "from sklearn.preprocessing import StandardScaler\n",
        "sc=StandardScaler()\n",
        "x=sc.fit_transform(x)\n",
        "\n",
        "xTrain,xTest,yTrain,yTest=train_test_split(x,y,train_size=0.7,random_state=0,stratify=y)"
      ],
      "metadata": {
        "id": "Jq-Uyizutrxu"
      },
      "execution_count": 20,
      "outputs": []
    },
    {
      "cell_type": "markdown",
      "source": [
        "In this step, we introduce the class GaussianNB that is used from the sklearn.naive_bayes library. Here, we have used a Gaussian model, there are several other models such as Bernoulli, Categorical and Multinomial. Here, we assign the GaussianNB class to the variable classifier and fit the X_train and y_train values to it for training purpose."
      ],
      "metadata": {
        "id": "fHscTWiVt8pC"
      }
    },
    {
      "cell_type": "code",
      "source": [
        "#Implement Naive Bayes\n",
        "from sklearn.naive_bayes import GaussianNB\n"
      ],
      "metadata": {
        "id": "u0z9mzISuBKw"
      },
      "execution_count": 22,
      "outputs": []
    },
    {
      "cell_type": "code",
      "source": [
        "#Predict the values for test data\n",
        "classifier=GaussianNB()\n",
        "classifier.fit(xTrain,yTrain)\n",
        "yPred=classifier.predict(xTest)\n",
        "\n",
        "\n",
        "# Display accuracy score & display confusion matrix & classification report\n",
        "print(accuracy_score(yTest,yPred))\n",
        "print(confusion_matrix(yTest,yPred))\n",
        "print(classification_report(yTest,yPred))\n"
      ],
      "metadata": {
        "id": "hv382A48usEq",
        "colab": {
          "base_uri": "https://localhost:8080/"
        },
        "outputId": "33f5e1ee-d669-46c5-f606-02ab41bbcd12"
      },
      "execution_count": 25,
      "outputs": [
        {
          "output_type": "stream",
          "name": "stdout",
          "text": [
            "0.9777777777777777\n",
            "[[15  0  0]\n",
            " [ 0 15  0]\n",
            " [ 0  1 14]]\n",
            "                 precision    recall  f1-score   support\n",
            "\n",
            "    Iris-setosa       1.00      1.00      1.00        15\n",
            "Iris-versicolor       0.94      1.00      0.97        15\n",
            " Iris-virginica       1.00      0.93      0.97        15\n",
            "\n",
            "       accuracy                           0.98        45\n",
            "      macro avg       0.98      0.98      0.98        45\n",
            "   weighted avg       0.98      0.98      0.98        45\n",
            "\n"
          ]
        }
      ]
    },
    {
      "cell_type": "markdown",
      "source": [
        "From the above confusion matrix, we infer that, out of 45 test set data, 44 were correctly classified and only 1 was incorrectly classified. This gives us a high accuracy of 97.7%."
      ],
      "metadata": {
        "id": "JFg1mUCswAIp"
      }
    }
  ]
}